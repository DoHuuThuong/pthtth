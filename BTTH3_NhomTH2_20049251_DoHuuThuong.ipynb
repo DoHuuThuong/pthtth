{
  "cells": [
    {
      "cell_type": "markdown",
      "metadata": {
        "id": "view-in-github",
        "colab_type": "text"
      },
      "source": [
        "<a href=\"https://colab.research.google.com/github/DoHuuThuong/pthtth/blob/tuan2/BTTH3_NhomTH2_20049251_DoHuuThuong.ipynb\" target=\"_parent\"><img src=\"https://colab.research.google.com/assets/colab-badge.svg\" alt=\"Open In Colab\"/></a>"
      ]
    },
    {
      "cell_type": "markdown",
      "source": [],
      "metadata": {
        "id": "okAJ0kAOxOMI"
      }
    },
    {
      "cell_type": "markdown",
      "metadata": {
        "id": "mqomiNX1gDfy"
      },
      "source": [
        "# 1. Hiển thị tên máy hiện tại, sử dụng hàm gethostname()"
      ]
    },
    {
      "cell_type": "markdown",
      "source": [],
      "metadata": {
        "id": "WfvVnnD4xMeY"
      }
    },
    {
      "cell_type": "code",
      "execution_count": 5,
      "metadata": {
        "colab": {
          "base_uri": "https://localhost:8080/"
        },
        "id": "O0MrSuKdgDfz",
        "outputId": "e30740b7-7041-4598-8043-e56bc9e6923a"
      },
      "outputs": [
        {
          "output_type": "stream",
          "name": "stdout",
          "text": [
            "Do Huu Thuong: 0e2114037480\n"
          ]
        }
      ],
      "source": [
        "import socket\n",
        "\n",
        "# Sử dụng hàm gethostname() để lấy tên máy hiện tại\n",
        "hostname = socket.gethostname()\n",
        "\n",
        "# In tên máy hiện tại ra màn hình\n",
        "print(\"Do Huu Thuong:\", hostname)"
      ]
    },
    {
      "cell_type": "markdown",
      "metadata": {
        "id": "LeP3iDjRgDf1"
      },
      "source": [
        "# 2. Hiển thị đc IP của máy đang sử dụng, sử dụng hàm gethostbyname(tenmay)"
      ]
    },
    {
      "cell_type": "code",
      "execution_count": 7,
      "metadata": {
        "colab": {
          "base_uri": "https://localhost:8080/"
        },
        "id": "bo7moLJIgDf1",
        "outputId": "98d52823-e9af-4cb5-b825-7666dfb71a4d"
      },
      "outputs": [
        {
          "output_type": "stream",
          "name": "stdout",
          "text": [
            "Địa chỉ IP của 0e2114037480 là 172.28.0.12\n"
          ]
        }
      ],
      "source": [
        "import socket\n",
        "\n",
        "\n",
        "host_name = socket.gethostname()\n",
        "\n",
        "ip_address = socket.gethostbyname(host_name)\n",
        "\n",
        "\n",
        "print(\"Địa chỉ IP của \" + host_name + \" là \" + ip_address)"
      ]
    },
    {
      "cell_type": "markdown",
      "metadata": {
        "id": "WEK-5JSvgDf1"
      },
      "source": [
        "# 3. Viết đoạn script cho phép người dùng lấy địa chỉ IP của máy hiện tại"
      ]
    },
    {
      "cell_type": "code",
      "execution_count": 8,
      "metadata": {
        "colab": {
          "base_uri": "https://localhost:8080/"
        },
        "id": "BfXtVwxPgDf1",
        "outputId": "a6c49ac3-525a-4cfb-9a9c-2017c7e93e1d"
      },
      "outputs": [
        {
          "output_type": "stream",
          "name": "stdout",
          "text": [
            "Tên máy hiện tại: 0e2114037480\n",
            "Địa chỉ IP của 0e2114037480 là 172.28.0.12\n"
          ]
        }
      ],
      "source": [
        "import socket\n",
        "\n",
        "\n",
        "host_name = socket.gethostname()\n",
        "\n",
        "ip_address = socket.gethostbyname(host_name)\n",
        "\n",
        "\n",
        "print(\"Tên máy hiện tại: \" + host_name)\n",
        "print(\"Địa chỉ IP của \" + host_name + \" là \" + ip_address)"
      ]
    },
    {
      "cell_type": "markdown",
      "metadata": {
        "id": "ul7I37rJgDf2"
      },
      "source": [
        "# 4. Truy vấn địa chỉ IP ở xa\n",
        "Khi một thiết bị kết nối vào mạng Internet muốn trao đổi thông tin với các thiết bị khác trong mạng, thiết bị đó cần được cấp một đcIP xác định và phải biết được đcIP của thiết bị mình cần tương tác.\n",
        "\n",
        "Vậy làm cách nào bạn có thể dịch tên của host_name thành đcIP?\n",
        "\n",
        "Vd: muốn biết đcIP của tuoitre.vn hoặc google.com -> gethostbyname()"
      ]
    },
    {
      "cell_type": "code",
      "execution_count": 11,
      "metadata": {
        "colab": {
          "base_uri": "https://localhost:8080/"
        },
        "id": "PYj5odHIgDf2",
        "outputId": "5911b6d4-b5d8-49b9-a67d-2dbec92528ff"
      },
      "outputs": [
        {
          "output_type": "stream",
          "name": "stdout",
          "text": [
            "Địa chỉ IP của tuoitre.vn là: 14.225.199.147\n",
            "Địa chỉ IP của google.com là: 142.251.2.113\n"
          ]
        }
      ],
      "source": [
        "import socket\n",
        "\n",
        "# Dịch tên máy chủ thành địa chỉ IP\n",
        "ip_address_tuoitre = socket.gethostbyname(\"tuoitre.vn\")\n",
        "ip_address_google = socket.gethostbyname(\"google.com\")\n",
        "\n",
        "print(\"Địa chỉ IP của tuoitre.vn là:\", ip_address_tuoitre)\n",
        "print(\"Địa chỉ IP của google.com là:\", ip_address_google)"
      ]
    },
    {
      "cell_type": "markdown",
      "metadata": {
        "id": "MAqUPZQVgDf2"
      },
      "source": [
        "# 5. Chuyển đc IPv4 sang định dạng khác\n",
        "Địa chỉ IPv4 là một dãy số nhị phân 32-bit. Tuy nhiên, để thuận tiện cho người dùng, thông thường nó được thể hiển theo dạng chuỗi bao gồm 4 octet cách nhau bởi dấu (.) chấm (Vd: 192.168.0.1)\n",
        "\n",
        "Trường hợp ký hiệu địa chỉ IP (dạng X.X.X.X)không phù hợp với các xử lý trong lập trình, khi đó chúng cần được chuyển đổi sang các định dạng nhị phân 32 bit."
      ]
    },
    {
      "cell_type": "code",
      "execution_count": 12,
      "metadata": {
        "colab": {
          "base_uri": "https://localhost:8080/"
        },
        "id": "Rfw6gOj-gDf2",
        "outputId": "bd3b335e-cb1b-4f77-b785-9d1d84a003e8"
      },
      "outputs": [
        {
          "output_type": "stream",
          "name": "stdout",
          "text": [
            "Địa chỉ IPv4: 192.168.0.1\n",
            "Định dạng nhị phân 32 bit: 11000000101010000000000000000001\n"
          ]
        }
      ],
      "source": [
        "\n",
        "def ipv4_to_binary(ipv4_str):\n",
        "    # Tách địa chỉ IP thành các octet (số từ 0-255)\n",
        "    octets = list(map(int, ipv4_str.split('.')))\n",
        "\n",
        "    # Chuyển đổi từng octet thành dạng nhị phân 8 bit\n",
        "    binary_octets = [format(octet, '08b') for octet in octets]\n",
        "\n",
        "    # Kết hợp các octet để tạo dạng nhị phân 32 bit\n",
        "    binary_ip = ''.join(binary_octets)\n",
        "\n",
        "    return binary_ip\n",
        "\n",
        "# Địa chỉ IPv4 dạng chuỗi\n",
        "ipv4_address = \"192.168.0.1\"\n",
        "\n",
        "# Chuyển đổi địa chỉ IPv4 sang dạng nhị phân\n",
        "binary_ip = ipv4_to_binary(ipv4_address)\n",
        "\n",
        "# In kết quả ra màn hình\n",
        "print(\"Địa chỉ IPv4:\", ipv4_address)\n",
        "print(\"Định dạng nhị phân 32 bit:\", binary_ip)"
      ]
    },
    {
      "cell_type": "markdown",
      "metadata": {
        "id": "OcZ1zQ_ZgDf2"
      },
      "source": [
        "# 6. Sinh viên hãy cho biết kết quả của 2 câu lệnh dưới đây\n",
        "import socket\n",
        "\n",
        "help(socket.inet_ntoa)"
      ]
    },
    {
      "cell_type": "code",
      "execution_count": null,
      "metadata": {
        "id": "lK7XiG-fgDf2"
      },
      "outputs": [],
      "source": [
        "#Sinh viên ghi kết qủa\n",
        "#Hàm này nhận một đối số packed_ip là một chuỗi bytes đại diện cho địa chỉ IPv4\n",
        "#và trả về một chuỗi đại diện cho địa chỉ IPv4 ở dạng chuỗi dấu chấm (ví dụ: \"192.168.0.1\")."
      ]
    },
    {
      "cell_type": "code",
      "execution_count": 13,
      "metadata": {
        "colab": {
          "base_uri": "https://localhost:8080/"
        },
        "id": "MiUfdIb4gDf2",
        "outputId": "51af90ca-3388-47de-c00a-11b1e3656e6e"
      },
      "outputs": [
        {
          "output_type": "stream",
          "name": "stdout",
          "text": [
            "Địa chỉ trong bộ nhớ của biến x: 139203944481296\n",
            "Địa chỉ trong bộ nhớ của biến y: 139203650772016\n",
            "Địa chỉ trong bộ nhớ của biến temp: 139203665489984\n"
          ]
        }
      ],
      "source": [
        "### START CODE HERE ###\n",
        "# Khai báo và gán giá trị cho biến x, y, và temp\n",
        "x = 10\n",
        "y = \"Hello\"\n",
        "temp = [1, 2, 3]\n",
        "\n",
        "# Sử dụng hàm id() để lấy địa chỉ trong bộ nhớ của các biến\n",
        "address_x = id(x)\n",
        "address_y = id(y)\n",
        "address_temp = id(temp)\n",
        "\n",
        "# In địa chỉ trong bộ nhớ ra màn hình\n",
        "print(\"Địa chỉ trong bộ nhớ của biến x:\", address_x)\n",
        "print(\"Địa chỉ trong bộ nhớ của biến y:\", address_y)\n",
        "print(\"Địa chỉ trong bộ nhớ của biến temp:\", address_temp)"
      ]
    },
    {
      "cell_type": "markdown",
      "metadata": {
        "id": "fXQeUKYVgDf3"
      },
      "source": [
        "# 7. Sinh viên hãy cho biết kết quả của 2 câu lệnh dưới đây:\n",
        "\n",
        "![image.png](attachment:image.png)"
      ]
    },
    {
      "cell_type": "code",
      "execution_count": 14,
      "metadata": {
        "colab": {
          "base_uri": "https://localhost:8080/"
        },
        "id": "5E69i7OzgDf3",
        "outputId": "9fb7bd87-d455-4cd6-c6f6-0099f64c3bc7"
      },
      "outputs": [
        {
          "output_type": "stream",
          "name": "stdout",
          "text": [
            "IP Address: 127.0.0.1 => Packed: b'7f000001', Unpacked: 127.0.0.1\n",
            "IP Address: 192.168.0.1 => Packed: b'c0a80001', Unpacked: 192.168.0.1\n"
          ]
        }
      ],
      "source": [
        "#  Start Code HERE\n",
        "import socket\n",
        "from binascii import hexlify\n",
        "def convert_ip4_address():\n",
        "    for ip_addr in['127.0.0.1', '192.168.0.1']:\n",
        "        packed_ip_addr = socket.inet_aton(ip_addr)\n",
        "        unpacked_ip_addr = socket.inet_ntoa(packed_ip_addr)\n",
        "        print(\"IP Address: %s => Packed: %s, Unpacked: %s\" %(ip_addr, hexlify(packed_ip_addr), unpacked_ip_addr))\n",
        "\n",
        "if __name__ == '__main__':\n",
        "    convert_ip4_address()\n",
        "\n",
        "# Write Result HERE\n",
        "#IP Address: 127.0.0.1 => Packed: b'7f000001', Unpacked: 127.0.0.1\n",
        "#IP Address: 192.168.0.1 => Packed: b'c0a80001', Unpacked: 192.168.0.1"
      ]
    },
    {
      "cell_type": "markdown",
      "metadata": {
        "id": "bk-Q_OVWgDf3"
      },
      "source": [
        "# 8. ICMP Echo Request\n",
        "ICMP Echo Request được biết đến bằng cách sử dụng lệnh ping. Gói ICMP được gửi đến máy chủ bằng địa chỉ IP và trả về kết quả thông qua trường TYPE. Dựa vào giá trị của TYPE để xác định tình trạng của máy chủ hiện tại.\n",
        "\n",
        "Một số giá trị của TYPE:\n",
        "\n",
        "0: Echo Reply\n",
        "\n",
        "2: No response\n",
        "\n",
        "...\n",
        "\n",
        "Sinh viên thực hoàn thành đoạn code sau và cho biết kết quả\n",
        "\n",
        "![image.png](attachment:image.png)"
      ]
    },
    {
      "cell_type": "code",
      "execution_count": 19,
      "metadata": {
        "colab": {
          "base_uri": "https://localhost:8080/"
        },
        "id": "AyjmBvXQgDf3",
        "outputId": "49bb8feb-249d-4843-de1e-155e8e7b4ae4"
      },
      "outputs": [
        {
          "output_type": "stream",
          "name": "stdout",
          "text": [
            "Type value: 0\n",
            "Ping to www.google.com OK\n"
          ]
        }
      ],
      "source": [
        "import subprocess\n",
        "\n",
        "address = \"www.google.com\"\n",
        "res = subprocess.call(['ping', '-c', '4', address])  # Thêm '-c' để chỉ định số gói tin ping\n",
        "\n",
        "print(\"Type value:\", str(res))\n",
        "\n",
        "if res == 0:\n",
        "    print(\"Ping to\", address, \"OK\")\n",
        "elif res == 2:\n",
        "    print(\"No response from\", address)\n",
        "else:\n",
        "    print(\"Ping to\", address, \"failed!\")"
      ]
    },
    {
      "cell_type": "code",
      "source": [
        "!apt-get install iputils-ping"
      ],
      "metadata": {
        "colab": {
          "base_uri": "https://localhost:8080/"
        },
        "id": "4kB0R2hevguh",
        "outputId": "1d08919a-01d0-4d5a-f61b-09f066981930"
      },
      "execution_count": 18,
      "outputs": [
        {
          "output_type": "stream",
          "name": "stdout",
          "text": [
            "Reading package lists... Done\n",
            "Building dependency tree... Done\n",
            "Reading state information... Done\n",
            "The following NEW packages will be installed:\n",
            "  iputils-ping\n",
            "0 upgraded, 1 newly installed, 0 to remove and 18 not upgraded.\n",
            "Need to get 42.9 kB of archives.\n",
            "After this operation, 116 kB of additional disk space will be used.\n",
            "Get:1 http://archive.ubuntu.com/ubuntu jammy/main amd64 iputils-ping amd64 3:20211215-1 [42.9 kB]\n",
            "Fetched 42.9 kB in 0s (105 kB/s)\n",
            "Selecting previously unselected package iputils-ping.\n",
            "(Reading database ... 120895 files and directories currently installed.)\n",
            "Preparing to unpack .../iputils-ping_3%3a20211215-1_amd64.deb ...\n",
            "Unpacking iputils-ping (3:20211215-1) ...\n",
            "Setting up iputils-ping (3:20211215-1) ...\n",
            "Processing triggers for man-db (2.10.2-1) ...\n"
          ]
        }
      ]
    },
    {
      "cell_type": "code",
      "execution_count": null,
      "metadata": {
        "id": "wCnKebh4gDf3"
      },
      "outputs": [],
      "source": [
        "### START CODE HERE ###\n",
        "#\n",
        "\n",
        "### END CODE HERE ###"
      ]
    },
    {
      "cell_type": "markdown",
      "metadata": {
        "id": "pmoX4wLQgDf3"
      },
      "source": [
        "# BÀI TẬP\n",
        "Bài 1: Hãy thực thi câu lệnh sau và cho biết kết quả:\n",
        "\n",
        "a)\n",
        "\n",
        "import socket\n",
        "\n",
        "help(socket.gethostname)\n",
        "\n",
        "b)\n",
        "\n",
        "import socket\n",
        "\n",
        "help(socket.gethostbyname)\n",
        "\n",
        "Bài 2: Sinh viên hãy thực hiện lại thí dụ 4, với Input hostname nhập vào là 255.255.255.256, hãy giải thích kết quả nhận được.  \n",
        "\n",
        "Bài 3: Hãy cải tiến thí dụ 4 bằng cách sử dụng vòng lặp cho phép người dùng liên tục nhập hostname và in ra địa chỉ IP, vòng lặp chỉ kết thúc khi người dùng nhập phím Q.\n",
        "\n",
        "Bài 4: Trong thí dụ 8, có sử dụng hàm subprocess, sinh viên hãy tìm hiểu và trình bày hàm subprocess, có giải thích và thí dụ minh họa.\n"
      ]
    },
    {
      "cell_type": "code",
      "execution_count": null,
      "metadata": {
        "colab": {
          "base_uri": "https://localhost:8080/"
        },
        "id": "i3QzhVbtgDf3",
        "outputId": "e01f1822-98d8-4f85-ddd4-1e7dabcca09d"
      },
      "outputs": [
        {
          "output_type": "stream",
          "name": "stdout",
          "text": [
            "Help on built-in function gethostname in module _socket:\n",
            "\n",
            "gethostname(...)\n",
            "    gethostname() -> string\n",
            "    \n",
            "    Return the current host name.\n",
            "\n",
            "Help on built-in function gethostbyname in module _socket:\n",
            "\n",
            "gethostbyname(...)\n",
            "    gethostbyname(host) -> address\n",
            "    \n",
            "    Return the IP address (a string of the form '255.255.255.255') for a host.\n",
            "\n",
            "Không thể truy vấn địa chỉ IP của 255.255.255.256\n",
            "Vui lòng nhập hostname (hoặc nhập 'Q' để thoát): 0e2114037480\n",
            "Địa chỉ IP của 0e2114037480 là 172.28.0.12\n"
          ]
        }
      ],
      "source": [
        "### START CODE HERE ###\n",
        "#Bài 1 )\n",
        "# a)\n",
        "import socket\n",
        "help(socket.gethostname)\n",
        "#RESULT\n",
        "#   Help on built-in function gethostname in module _socket:\n",
        "#   gethostname(...)\n",
        "#   gethostname() -> string\n",
        "#   Return the current host name.\n",
        "\n",
        "# b)\n",
        "import socket\n",
        "help(socket.gethostbyname)\n",
        "#RESULT\n",
        "#   Help on built-in function gethostbyname in module _socket:\n",
        "#   gethostbyname(...)\n",
        "#   gethostbyname(host) -> address\n",
        "#    Return the IP address (a string of the form '255.255.255.255') for a host.\n",
        "\n",
        "#Bài 2 )\n",
        "import socket\n",
        "\n",
        "def query_ip_address(host_name):\n",
        "    try:\n",
        "        # Truy vấn địa chỉ IP từ tên của host\n",
        "        ip_address = socket.gethostbyname(host_name)\n",
        "        return f\"Địa chỉ IP của {host_name} là {ip_address}\"\n",
        "    except socket.gaierror:\n",
        "        return f\"Không thể truy vấn địa chỉ IP của {host_name}\"\n",
        "\n",
        "# Ví dụ sử dụng\n",
        "print(query_ip_address(\"255.255.255.256\"))\n",
        "#Kết quả: Không thể truy vấn địa chỉ IP của 255.255.255.256\n",
        "\n",
        "#Giải thích: Giá trị \"255.255.255.256\" không phải là một địa chỉ IP hợp lệ do giá trị của một octet (byte) trong IPv4\n",
        "#chỉ có thể nằm trong phạm vi từ 0 đến 255. Hơn nữa, hàm gethostbyname cố gắng tìm địa chỉ IP tương ứng\n",
        "#với một hostname (tên máy chủ), và \"255.255.255.256\" không phải là một hostname hợp lệ.\n",
        "#Do đó, hàm sẽ không trả về địa chỉ IP và thể hiện lỗi bắt bởi socket.gaierror trong khối except.\n",
        "\n",
        "\n",
        "#Bài 3 )\n",
        "import socket\n",
        "\n",
        "def query_ip_address(host_name):\n",
        "    try:\n",
        "        # Truy vấn địa chỉ IP từ tên của host\n",
        "        ip_address = socket.gethostbyname(host_name)\n",
        "        return f\"Địa chỉ IP của {host_name} là {ip_address}\"\n",
        "    except socket.gaierror:\n",
        "        return f\"Không thể truy vấn địa chỉ IP của {host_name}\"\n",
        "\n",
        "# Vòng lặp để cho phép người dùng liên tục nhập hostname\n",
        "while True:\n",
        "    host_name = input(\"Vui lòng nhập hostname (hoặc nhập 'Q' để thoát): \")\n",
        "\n",
        "    if host_name.upper() == 'Q':\n",
        "        print(\"Chương trình kết thúc. Tạm biệt!\")\n",
        "        break\n",
        "\n",
        "    print(query_ip_address(host_name))\n",
        "\n",
        "\n",
        "#Bài 4 )\n",
        "\n",
        "#Module subprocess trong Python được dùng để chạy và tương tác với các process con, cho phép chạy các lệnh shell và lấy kết quả trả về.\n",
        "#Phương thức chính:\n",
        "#subprocess.run(): Chạy lệnh, chờ lệnh hoàn thành, và trả về đối tượng chứa thông tin như exit code.\n",
        "import subprocess\n",
        "subprocess.run(['dir'], shell=True)\n",
        "#subprocess.call(): Tương tự như run() nhưng chỉ trả về exit code.\n",
        "import subprocess\n",
        "exit_code = subprocess.call('dir', shell=True)\n",
        "#subprocess.Popen(): Để tương tác phức tạp hơn với process con, có thể đọc stdout và stderr.\n",
        "import subprocess\n",
        "\n",
        "process = subprocess.Popen('dir', stdout=subprocess.PIPE, stderr=subprocess.PIPE, shell=True)\n",
        "stdout, stderr = process.communicate()\n",
        "print(\"STDOUT:\", stdout.decode('cp437', errors='ignore'))\n",
        "print(\"STDERR:\", stderr.decode('cp437', errors='ignore'))\n",
        "\n",
        "#Ví dụ minh họa:\n",
        "#Chạy lệnh ping để kiểm tra kết nối đến \"www.google.com\" và lấy exit code.\n",
        "import subprocess\n",
        "address = \"www.google.com\"\n",
        "res = subprocess.call(['ping', '-c', '1', address])\n",
        "if res == 0:\n",
        "    print(f\"ping to {address} OK\")\n",
        "else:\n",
        "    print(f\"ping to {address} failed!\")\n",
        "\n",
        "\n",
        "### END CODE HERE ###"
      ]
    },
    {
      "cell_type": "markdown",
      "metadata": {
        "id": "H8bKam-egDf3"
      },
      "source": [
        "#TÀI LIỆU THAM KHẢO\n",
        "\n",
        "https://www.python-course.eu/conditional_statements.php\n",
        "\n",
        "https://www.w3schools.com/python/python_conditions.asp\n",
        "\n",
        "https://jaxenter.com/differences-python-2-3-148432.html\n",
        "\n",
        "https://jaxenter.com/implement-switch-case-statement-python-138315.html\n",
        "\n",
        "https://www.geeksforgeeks.org/network-scanner-in-python/"
      ]
    }
  ],
  "metadata": {
    "kernelspec": {
      "display_name": "Python 3",
      "language": "python",
      "name": "python3"
    },
    "language_info": {
      "codemirror_mode": {
        "name": "ipython",
        "version": 3
      },
      "file_extension": ".py",
      "mimetype": "text/x-python",
      "name": "python",
      "nbconvert_exporter": "python",
      "pygments_lexer": "ipython3",
      "version": "3.10.8"
    },
    "colab": {
      "provenance": [],
      "include_colab_link": true
    }
  },
  "nbformat": 4,
  "nbformat_minor": 0
}