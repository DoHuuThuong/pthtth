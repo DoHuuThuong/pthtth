{
  "cells": [
    {
      "cell_type": "markdown",
      "metadata": {
        "id": "view-in-github",
        "colab_type": "text"
      },
      "source": [
        "<a href=\"https://colab.research.google.com/github/DoHuuThuong/pthtth/blob/Tuan1/BTTH2_NhomTH_20049251_DoHuuThuong.ipynb\" target=\"_parent\"><img src=\"https://colab.research.google.com/assets/colab-badge.svg\" alt=\"Open In Colab\"/></a>"
      ]
    },
    {
      "cell_type": "markdown",
      "metadata": {
        "id": "O0AAaGiAgsTY"
      },
      "source": [
        "MSSV:20049251\n",
        "\n",
        "Họ và tên: Đỗ Hữu Thượng\n",
        "\n",
        "Lớp học phần:DHCNTT16A\n",
        "\n",
        "Nhóm thực hành :2"
      ]
    },
    {
      "cell_type": "markdown",
      "metadata": {
        "id": "DUXfQ28ygsTa"
      },
      "source": [
        "# 1. Decision Making and Loops\n",
        "---"
      ]
    },
    {
      "cell_type": "markdown",
      "metadata": {
        "id": "AkpktczXgsTa"
      },
      "source": [
        "## 1.1. Viết chương trình kiểm tra một số là số dương, số âm hay bằng không không.\n",
        "\n",
        "Sử dụng 2 dạng của câu lệnh rễ nhánh:\n",
        "\n",
        "if ... elif ... else\n",
        "\n",
        "Nested if"
      ]
    },
    {
      "cell_type": "code",
      "execution_count": 2,
      "metadata": {
        "colab": {
          "base_uri": "https://localhost:8080/"
        },
        "id": "Rl5JNRO1gsTa",
        "outputId": "5cbe8e3a-f2dd-4bc3-fd0d-8ff44e1eb8c5"
      },
      "outputs": [
        {
          "output_type": "stream",
          "name": "stdout",
          "text": [
            "Nhập vào một số: -3\n",
            "Số này là số âm\n"
          ]
        }
      ],
      "source": [
        "\n",
        "# Dạng 1 if ... elif ... else\n",
        "# Nhập số từ người dùng\n",
        "so = float(input(\"Nhập vào một số: \"))\n",
        "\n",
        "# Sử dụng câu lệnh if ... elif ... else\n",
        "if so > 0:\n",
        "    print(\"Số này là số dương\")\n",
        "elif so < 0:\n",
        "    print(\"Số này là số âm\")\n",
        "else:\n",
        "    print(\"Số này bằng không\")"
      ]
    },
    {
      "cell_type": "code",
      "execution_count": 3,
      "metadata": {
        "colab": {
          "base_uri": "https://localhost:8080/"
        },
        "id": "WcL2vrsVgsTb",
        "outputId": "f3874a7b-f3a7-4976-c983-7f6dd1eee1bc"
      },
      "outputs": [
        {
          "output_type": "stream",
          "name": "stdout",
          "text": [
            "Nhập vào một số: 5\n",
            "Số này là số dương\n"
          ]
        }
      ],
      "source": [
        "# Dạng 2: Nested if\n",
        "num = float(input(\"Nhập vào một số: \"))\n",
        "\n",
        "### START CODE HERE ###\n",
        "if num >= 0:\n",
        "    if num > 0:\n",
        "        print(\"Số này là số dương\")\n",
        "    else:\n",
        "        print(\"Số này bằng không\")\n",
        "else:\n",
        "    print(\"Số này là số âm\")\n",
        "### END CODE HERE ###"
      ]
    },
    {
      "cell_type": "markdown",
      "metadata": {
        "id": "aOBihh6agsTb"
      },
      "source": [
        "## 1.2. Viết chương trình kiểm tra một năm có phải năm nhuận không.\n",
        "\n",
        "Năm nhuận là năm chia hết cho 4, trừ những năm đầu thế kỷ (chia hết cho 100). Những năm đầu thế kỷ là năm nhuận khi nó chia hết cho 400 (ví dụ năm 2100 không phải là năm nhuận, 2104 là năm nhuận).\n",
        "\n",
        "Sử dụng 2 dạng của câu lệnh rễ nhánh:\n",
        "\n",
        "if ... elif ... else\n",
        "\n",
        "Nested if"
      ]
    },
    {
      "cell_type": "code",
      "execution_count": 4,
      "metadata": {
        "colab": {
          "base_uri": "https://localhost:8080/"
        },
        "id": "hg_tT4YWgsTb",
        "outputId": "ea3adfb3-d4cd-4e68-bc7c-0c344a1667e4"
      },
      "outputs": [
        {
          "output_type": "stream",
          "name": "stdout",
          "text": [
            "Nhập năm: 2100\n",
            "2100 không phải là năm nhuận\n"
          ]
        }
      ],
      "source": [
        "# Sử dụng lệnh if lồng nhau\n",
        "year = int(input(\"Nhập năm: \"))\n",
        "\n",
        "if (year % 4) == 0:\n",
        "    if (year % 100) == 0:\n",
        "        if (year % 400) == 0:\n",
        "            print(\"{0} là năm nhuận\".format(year))\n",
        "        else:\n",
        "            print(\"{0} không phải là năm nhuận\".format(year))\n",
        "    else:\n",
        "        print(\"{0} là năm nhuận\".format(year))\n",
        "else:\n",
        "    print(\"{0} không phải là năm nhuận\".format(year))"
      ]
    },
    {
      "cell_type": "code",
      "execution_count": 5,
      "metadata": {
        "colab": {
          "base_uri": "https://localhost:8080/"
        },
        "id": "yHFdyaqVgsTc",
        "outputId": "3dfeddfa-5262-4639-aafe-46e4d3015317"
      },
      "outputs": [
        {
          "output_type": "stream",
          "name": "stdout",
          "text": [
            "Nhập năm: 2015\n",
            "2015 không phải là năm nhuận\n"
          ]
        }
      ],
      "source": [
        "# Sử dụng lệnh if ... elif ... else\n",
        "year = int(input(\"Nhập năm: \"))\n",
        "\n",
        "### START CODE HERE ###\n",
        "\n",
        "# Sử dụng câu lệnh if ... elif ... else\n",
        "if (year % 4 == 0 and year % 100 != 0) or (year % 400 == 0):\n",
        "    print(f\"{year} là năm nhuận\")\n",
        "else:\n",
        "    print(f\"{year} không phải là năm nhuận\")\n",
        "\n",
        "\n",
        "### END CODE HERE ###"
      ]
    },
    {
      "cell_type": "markdown",
      "metadata": {
        "id": "fTLGhVxAgsTc"
      },
      "source": [
        "## 1.3. Viết chương trình kiểm tra một số nguyên có phải số nguyên tố không. Nếu không phải là số nguyên tố in ra lý do."
      ]
    },
    {
      "cell_type": "code",
      "execution_count": 7,
      "metadata": {
        "colab": {
          "base_uri": "https://localhost:8080/"
        },
        "id": "qfr9Ul6qgsTd",
        "outputId": "7ceb7064-80ad-4c7f-dbd3-eb0806c29249"
      },
      "outputs": [
        {
          "output_type": "stream",
          "name": "stdout",
          "text": [
            "Enter a number: 5\n",
            "5 là số nguyên tố\n"
          ]
        }
      ],
      "source": [
        "num = int(input(\"Enter a number: \"))\n",
        "\n",
        "# Số nguyên tố phải lớn hơn 1\n",
        "if num > 1:\n",
        "    for i in range(2,num):\n",
        "        if (num % i) == 0:\n",
        "            ### START CODE HERE ###\n",
        "          print(num, \"không phải là số nguyên tố vì nó chia hết cho\", i)\n",
        "          break\n",
        "    else:\n",
        "        print(num, \"là số nguyên tố\")\n",
        "        ### END CODE HERE ###\n",
        "\n",
        "else:\n",
        "    print(num,\"không phải là số nguyên tố\")"
      ]
    },
    {
      "cell_type": "markdown",
      "metadata": {
        "id": "Uax-9M5FgsTd"
      },
      "source": [
        "## 1.4. Viết chương trình in ra tất cả các số nguyên tố trong khoảng (a,b)"
      ]
    },
    {
      "cell_type": "code",
      "execution_count": 8,
      "metadata": {
        "colab": {
          "base_uri": "https://localhost:8080/"
        },
        "id": "8mvCFAGVgsTd",
        "outputId": "c5bb47f2-c2da-42c2-8a2b-9742c6453708"
      },
      "outputs": [
        {
          "output_type": "stream",
          "name": "stdout",
          "text": [
            "Prime numbers between 900 and 1000 are:\n",
            "907\n",
            "911\n",
            "919\n",
            "929\n",
            "937\n",
            "941\n",
            "947\n",
            "953\n",
            "967\n",
            "971\n",
            "977\n",
            "983\n",
            "991\n",
            "997\n"
          ]
        }
      ],
      "source": [
        "# Python program to display all the prime numbers within an interval\n",
        "\n",
        "lower = 900\n",
        "upper = 1000\n",
        "\n",
        "print(\"Prime numbers between\", lower, \"and\", upper, \"are:\")\n",
        "\n",
        "for num in range(lower, upper + 1):\n",
        "    if num > 1:\n",
        "        ### START CODE HERE ###\n",
        "        # Sử dụng for ... else\n",
        "        for i in range(2, int(num**0.5) + 1):\n",
        "          if(num % i) == 0:\n",
        "            break\n",
        "        else:\n",
        "            print(num)\n",
        "\n",
        "        ### END CODE HERE ###"
      ]
    },
    {
      "cell_type": "markdown",
      "metadata": {
        "id": "Aaxvm5QFgsTd"
      },
      "source": [
        "## 1.5. Viết chương trình in ra 5 số Armstrong bé nhất.\n",
        "\n",
        "Một số nguyên dương gồm n chữ số được gọi là số Armstrong bậc n nếu\n",
        "\n",
        "abcd... = a^n + b^n + c^n + d^n + ...\n",
        "\n",
        "VD: 153 = 1*1*1 + 5*5*5 + 3*3*3"
      ]
    },
    {
      "cell_type": "code",
      "execution_count": 9,
      "metadata": {
        "colab": {
          "base_uri": "https://localhost:8080/"
        },
        "id": "gTUtvonXgsTd",
        "outputId": "a8cdd2f9-0ca4-40fc-b2ca-53a06184692a"
      },
      "outputs": [
        {
          "output_type": "stream",
          "name": "stdout",
          "text": [
            "5 số Armstrong bé nhất là:\n",
            "1\n",
            "3\n",
            "5\n",
            "7\n",
            "9\n"
          ]
        }
      ],
      "source": [
        "# initialize sum, count\n",
        "\n",
        "sum = 0\n",
        "count = 0\n",
        "num = 1\n",
        "print(\"5 số Armstrong bé nhất là:\")\n",
        "# Biến count được sử dụng để đếm số Armstrong đã tìm được\n",
        "while count < 5:\n",
        "    # Chuyển số thành xâu và sử dụng hàm len để tính số chữ số\n",
        "    order = len(str(num))\n",
        "\n",
        "    temp = num\n",
        "\n",
        "    # Tính tổng mũ của các chữ số\n",
        "    while temp > 0:\n",
        "        digit = temp % 10 # Tìm chữ số cuối cùng\n",
        "        ### START CODE HERE ###\n",
        "\n",
        "        sum += digit ** order # Cộng thêm giá trị của chữ số vào biến sum\n",
        "        temp //= 10 # Loại bỏ chữ số cuối cùng cho bước lặp tiếp theo\n",
        "\n",
        "        ### END CODE HERE ###\n",
        "\n",
        "    # display the result\n",
        "    if num == sum:\n",
        "        print(num)\n",
        "        count += 1\n",
        "    num += 1\n",
        "\n",
        "    # Đặt lại biến sum và tăng num lên 1 cho số tiếp theo\n",
        "    sum = 0\n",
        "    num += 1"
      ]
    },
    {
      "cell_type": "markdown",
      "metadata": {
        "id": "_029WrFygsTd"
      },
      "source": [
        "# 2. Functions\n",
        "---"
      ]
    },
    {
      "cell_type": "markdown",
      "metadata": {
        "id": "J0BKbvvFgsTd"
      },
      "source": [
        "## 2.1. Viết hàm nhận vào một số nguyên, trả về giá trị True nếu nó là số nguyên tố, và False nếu nó không phải là số nguyên tố.\n",
        "\n",
        "Sử dụng code của Bài 1.3"
      ]
    },
    {
      "cell_type": "code",
      "execution_count": 10,
      "metadata": {
        "id": "8BNSReX6gsTd"
      },
      "outputs": [],
      "source": [
        "def prime(n):\n",
        "    ### START CODE HERE ###\n",
        "    # Sử dụng code của Bài 1.3\n",
        "    if n > 1:\n",
        "      for i in range(2, n):\n",
        "        if(n % i) == 0:\n",
        "          return False\n",
        "      return True\n",
        "    else:\n",
        "      return False\n",
        "    ### END CODE HERE ###"
      ]
    },
    {
      "cell_type": "markdown",
      "metadata": {
        "id": "AKptnS7fgsTd"
      },
      "source": [
        "Kiểm tra hoạt động của hàm prime(n) đã viết"
      ]
    },
    {
      "cell_type": "code",
      "execution_count": 11,
      "metadata": {
        "colab": {
          "base_uri": "https://localhost:8080/"
        },
        "id": "BgUlTAzHgsTe",
        "outputId": "818efaa1-c5d4-440d-9b75-9d213d6783f7"
      },
      "outputs": [
        {
          "output_type": "stream",
          "name": "stdout",
          "text": [
            "Nhập vào một số:6\n",
            "6 không phải là số nguyên tố\n"
          ]
        }
      ],
      "source": [
        "n = int(input(\"Nhập vào một số:\"))\n",
        "if prime(n):\n",
        "    print(n, 'là số nguyên tố')\n",
        "else:\n",
        "    print(n, 'không phải là số nguyên tố')"
      ]
    },
    {
      "cell_type": "markdown",
      "metadata": {
        "id": "Qelvh9-RgsTe"
      },
      "source": [
        "## 2.2. Viết hàm nhận vào một số nguyên, trả về giá trị True nếu nó là số Armstrong, và False nếu nó không phải là số Armstrong.\n",
        "\n",
        "Sử dụng code của Bài 1.5"
      ]
    },
    {
      "cell_type": "code",
      "execution_count": 12,
      "metadata": {
        "id": "yEapLe-JgsTe"
      },
      "outputs": [],
      "source": [
        "def armstrong(n):\n",
        "    ### START CODE HERE ###\n",
        "    # Sử dụng code của Bài 1.5\n",
        "  order = len(str(n))\n",
        "  temp = n\n",
        "  sum_of_powers = 0\n",
        "\n",
        "  while temp > 0:\n",
        "        digit = temp % 10  # Lấy chữ số cuối cùng\n",
        "        sum_of_powers += digit ** order  # Tính tổng lũy thừa bậc order của các chữ số\n",
        "        temp //= 10  # Loại bỏ chữ số cuối cùng cho bước lặp tiếp theo\n",
        "\n",
        "  return sum_of_powers == n  # So sánh tổng lũy thừa bậc order với số gốc\n",
        "    ### END CODE HERE ###"
      ]
    },
    {
      "cell_type": "markdown",
      "metadata": {
        "id": "MKaQ5Q-dgsTe"
      },
      "source": [
        "Kiểm tra hoạt động của hàm armstrong(n) đã viết"
      ]
    },
    {
      "cell_type": "code",
      "execution_count": 14,
      "metadata": {
        "colab": {
          "base_uri": "https://localhost:8080/"
        },
        "id": "p7xN0lS_gsTe",
        "outputId": "de94a563-f458-4df4-89d9-de1001be3e90"
      },
      "outputs": [
        {
          "output_type": "stream",
          "name": "stdout",
          "text": [
            "9 là số Armstrong\n"
          ]
        }
      ],
      "source": [
        "n = 9\n",
        "# n = 153\n",
        "# n = 35\n",
        "if armstrong(n):\n",
        "    print(n, 'là số Armstrong')\n",
        "else:\n",
        "    print(n, 'không phải là số Armstrong')"
      ]
    },
    {
      "cell_type": "markdown",
      "metadata": {
        "id": "acbaFKuxgsTe"
      },
      "source": [
        "## 2.3. Sử dụng hàm Lambda để in ra 10 lũy thừa đầu tiên của 2."
      ]
    },
    {
      "cell_type": "code",
      "execution_count": 15,
      "metadata": {
        "colab": {
          "base_uri": "https://localhost:8080/"
        },
        "id": "FHJ2XF1XgsTe",
        "outputId": "7e8b3b15-af4c-4038-83eb-8d41c9e8a777"
      },
      "outputs": [
        {
          "output_type": "stream",
          "name": "stdout",
          "text": [
            "2^0 = 1\n",
            "2^1 = 2\n",
            "2^2 = 4\n",
            "2^3 = 8\n",
            "2^4 = 16\n",
            "2^5 = 32\n",
            "2^6 = 64\n",
            "2^7 = 128\n",
            "2^8 = 256\n",
            "2^9 = 512\n"
          ]
        }
      ],
      "source": [
        "# Sử dụng hàm lambda để tính lũy thừa của 2\n",
        "powers_of_2 = lambda n: 2 ** n\n",
        "\n",
        "# In ra 10 lũy thừa đầu tiên của 2\n",
        "for i in range(10):\n",
        "    result = powers_of_2(i)\n",
        "    print(f\"2^{i} = {result}\")"
      ]
    },
    {
      "cell_type": "markdown",
      "metadata": {
        "id": "IbD9L5_XgsTe"
      },
      "source": [
        "## 2.4. Sử dụng hàm Lambda để in ra 10 số chính phương đầu tiên"
      ]
    },
    {
      "cell_type": "code",
      "execution_count": 16,
      "metadata": {
        "colab": {
          "base_uri": "https://localhost:8080/"
        },
        "id": "IR2Vt1ZngsTe",
        "outputId": "7d4ca038-9c93-42c6-a2b0-ca8c6b9afe41"
      },
      "outputs": [
        {
          "output_type": "stream",
          "name": "stdout",
          "text": [
            "1\n",
            "4\n",
            "9\n",
            "16\n",
            "25\n",
            "36\n",
            "49\n",
            "64\n",
            "81\n",
            "100\n"
          ]
        }
      ],
      "source": [
        "terms = 10\n",
        "# use anonymous function\n",
        "### START CODE HERE ###\n",
        "# Sử dụng kết hợp với hàm map()\n",
        "square_numbers = map(lambda x: x**2, range(1, terms * 2 + 1))\n",
        "square_numbers = filter(lambda x: x**0.5 == int(x**0.5), square_numbers)\n",
        "\n",
        "# Lấy 10 số chính phương đầu tiên và chuyển chúng thành danh sách\n",
        "result = list(square_numbers)[:terms]\n",
        "### END CODE HERE ###\n",
        "for i in range(terms):\n",
        "  print(result[i])"
      ]
    },
    {
      "cell_type": "markdown",
      "metadata": {
        "id": "OF6zdOU7gsTe"
      },
      "source": [
        "## 2.5. Sử dụng hàm Lambda để in ra các số lẻ trong một dãy"
      ]
    },
    {
      "cell_type": "code",
      "execution_count": 17,
      "metadata": {
        "colab": {
          "base_uri": "https://localhost:8080/"
        },
        "id": "igB4ABHygsTe",
        "outputId": "ab07ada0-2fdb-48b1-ab15-c2da789777e4"
      },
      "outputs": [
        {
          "output_type": "stream",
          "name": "stdout",
          "text": [
            "Các số lẻ trong dãy [65, 39, 339, 221]\n"
          ]
        }
      ],
      "source": [
        "# Take a list of numbers\n",
        "my_list = [12, 65, 54, 39, 102, 339, 221,]\n",
        "\n",
        "# use anonymous function to filter\n",
        "result = list(filter(lambda x: (x % 2 == 1), my_list))\n",
        "\n",
        "# display the result\n",
        "print(\"Các số lẻ trong dãy\",result)"
      ]
    },
    {
      "cell_type": "markdown",
      "metadata": {
        "id": "gdkU0JIagsTf"
      },
      "source": [
        "## 2.5. Sử dụng hàm filter() để in ra các số nguyên tố trong một dãy"
      ]
    },
    {
      "cell_type": "code",
      "execution_count": 18,
      "metadata": {
        "colab": {
          "base_uri": "https://localhost:8080/"
        },
        "id": "SlWllDAKgsTf",
        "outputId": "53378231-c773-49bf-c6bf-93c1eef7cab6"
      },
      "outputs": [
        {
          "output_type": "stream",
          "name": "stdout",
          "text": [
            "Các số nguyên tố trong dãy [37, 47]\n"
          ]
        }
      ],
      "source": [
        "# Take a list of numbers\n",
        "my_list = [12, 65, 54, 39, 102, 339, 221, 37, 47]\n",
        "\n",
        "# định nghĩa hàm nhận vào một số nguyên,\n",
        "# trả về giá trị True nếu nó là số nguyên tố,\n",
        "# và False nếu nó không phải là số nguyên tố.\n",
        "def prime(n):\n",
        "    ### START CODE HERE ###\n",
        "    if n <= 1:\n",
        "        return False\n",
        "    if n <= 3:\n",
        "        return True\n",
        "    if n % 2 == 0 or n % 3 == 0:\n",
        "        return False\n",
        "    i = 5\n",
        "    while i * i <= n:\n",
        "        if n % i == 0 or n % (i + 2) == 0:\n",
        "            return False\n",
        "        i += 6\n",
        "    return True\n",
        "    ### END CODE HERE ###\n",
        "# use filter()\n",
        "    ### START CODE HERE ###\n",
        "result = list(filter(prime, my_list))\n",
        "    ### END CODE HERE ###\n",
        "# display the result\n",
        "print(\"Các số nguyên tố trong dãy\",result)"
      ]
    }
  ],
  "metadata": {
    "kernelspec": {
      "display_name": "Python 3",
      "language": "python",
      "name": "python3"
    },
    "language_info": {
      "codemirror_mode": {
        "name": "ipython",
        "version": 3
      },
      "file_extension": ".py",
      "mimetype": "text/x-python",
      "name": "python",
      "nbconvert_exporter": "python",
      "pygments_lexer": "ipython3",
      "version": "3.11.4"
    },
    "colab": {
      "provenance": [],
      "include_colab_link": true
    }
  },
  "nbformat": 4,
  "nbformat_minor": 0
}