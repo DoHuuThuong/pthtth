{
  "cells": [
    {
      "cell_type": "markdown",
      "metadata": {
        "id": "view-in-github",
        "colab_type": "text"
      },
      "source": [
        "<a href=\"https://colab.research.google.com/github/DoHuuThuong/pthtth/blob/Tuan1/BTTH1_NhomTH2_20049251_%C4%90%E1%BB%97_H%E1%BB%AFu_Th%C6%B0%E1%BB%A3ng.ipynb\" target=\"_parent\"><img src=\"https://colab.research.google.com/assets/colab-badge.svg\" alt=\"Open In Colab\"/></a>"
      ]
    },
    {
      "cell_type": "markdown",
      "metadata": {
        "id": "_hMv69jEjKUX"
      },
      "source": [
        "# Họ và tên: Đỗ Hữu Thượng\n",
        "# MSSV:20049251\n",
        "# Lớp học phần 420300207401 - Nhóm TH:2"
      ]
    },
    {
      "cell_type": "markdown",
      "metadata": {
        "id": "CXjqonQDjKUY"
      },
      "source": [
        "# 1. Hello world!"
      ]
    },
    {
      "cell_type": "code",
      "execution_count": null,
      "metadata": {
        "id": "S2yNvimLjKUY",
        "outputId": "5507bcf4-be07-4bb5-ec62-17e1e2525e68"
      },
      "outputs": [
        {
          "name": "stdout",
          "output_type": "stream",
          "text": [
            "heello thuong\n"
          ]
        }
      ],
      "source": [
        "print(\"heello thuong\")"
      ]
    },
    {
      "cell_type": "markdown",
      "metadata": {
        "id": "j_L2rJ5XjKUZ"
      },
      "source": [
        "# 2. Program to Add Two Numbers"
      ]
    },
    {
      "cell_type": "markdown",
      "metadata": {
        "id": "ZeqcBvlHjKUZ"
      },
      "source": [
        "## Add Two Numbers"
      ]
    },
    {
      "cell_type": "code",
      "execution_count": null,
      "metadata": {
        "id": "YpSKYrI4jKUZ",
        "outputId": "98c8cca5-91f8-4f9d-8f66-7043d80928f9"
      },
      "outputs": [
        {
          "name": "stdout",
          "output_type": "stream",
          "text": [
            "tong: 7.8\n"
          ]
        }
      ],
      "source": [
        "num1 = 1.5\n",
        "num2 = 6.3\n",
        "\n",
        "### START CODE HERE ###\n",
        "# Add two numbers\n",
        "\n",
        "sum = num1 + num2\n",
        "\n",
        "# Display the sum\n",
        "print(\"tong:\",sum)"
      ]
    },
    {
      "cell_type": "markdown",
      "metadata": {
        "id": "F2xfa3D8jKUZ"
      },
      "source": [
        "##  Add Two Numbers With User Input"
      ]
    },
    {
      "cell_type": "code",
      "execution_count": null,
      "metadata": {
        "colab": {
          "base_uri": "https://localhost:8080/"
        },
        "id": "P8Ei1x-6jKUZ",
        "outputId": "4b15588b-25be-4619-efb9-aa796a3d99c9"
      },
      "outputs": [
        {
          "output_type": "stream",
          "name": "stdout",
          "text": [
            "nhap so1: 2\n",
            "nhao so2: 3\n",
            "The sum of 2.0 and 3.0 is 5.0\n"
          ]
        }
      ],
      "source": [
        "# Store input numbers\n",
        "num1 = float(input(\"nhap so1: \"))\n",
        "num2 = float(input(\"nhao so2: \"))\n",
        "\n",
        "\n",
        "### START CODE HERE ###\n",
        "\n",
        "# Add two numbers\n",
        "sum_result = num1 + num2\n",
        "\n",
        "\n",
        "### END CODE HERE ###\n",
        "\n",
        "# Display the sum\n",
        "print(f\"The sum of {num1} and {num2} is {sum_result}\")\n"
      ]
    },
    {
      "cell_type": "markdown",
      "metadata": {
        "id": "jBgwcnJCjKUa"
      },
      "source": [
        "# 3. Program to Find the Square Root"
      ]
    },
    {
      "cell_type": "code",
      "execution_count": null,
      "metadata": {
        "id": "NreJ2CWfjKUa"
      },
      "outputs": [],
      "source": []
    },
    {
      "cell_type": "code",
      "execution_count": null,
      "metadata": {
        "colab": {
          "base_uri": "https://localhost:8080/"
        },
        "id": "td6CCyYkjKUa",
        "outputId": "4e0b9b89-412c-47a4-afae-f18c52496f0c"
      },
      "outputs": [
        {
          "output_type": "stream",
          "name": "stdout",
          "text": [
            "Căn bậc hai của 8 là 2.8284271247461903\n"
          ]
        }
      ],
      "source": [
        "# Python Program to calculate the square root\n",
        "import math\n",
        "# Note: change this value for a different result\n",
        "num = 8\n",
        "\n",
        "# To take the input from the user\n",
        "#num = float(input('Enter a number: '))\n",
        "square_root = math.sqrt(num)\n",
        "\n",
        "# calculate the square root\n",
        "\n",
        "\n",
        "# print the value of the square root\n",
        "\n",
        "print(f\"Căn bậc hai của {num} là {square_root}\")\n"
      ]
    },
    {
      "cell_type": "markdown",
      "metadata": {
        "id": "1DlrqYlMjKUa"
      },
      "source": [
        "# 4. Program to Calculate the Area of a Triangle\n",
        "s = (a+b+c)/2\n",
        "\n",
        "area = √(s(s-a)*(s-b)*(s-c))"
      ]
    },
    {
      "cell_type": "code",
      "execution_count": null,
      "metadata": {
        "colab": {
          "base_uri": "https://localhost:8080/"
        },
        "id": "QZYNhYkQjKUa",
        "outputId": "98c14ed7-8175-4be8-8c78-3304ba3c8756"
      },
      "outputs": [
        {
          "output_type": "stream",
          "name": "stdout",
          "text": [
            "Nhập độ dài cạnh a: 5\n",
            "Nhập độ dài cạnh b: 6\n",
            "Nhập độ dài cạnh c: 2\n",
            "Diện tích của tam giác là 4.68\n"
          ]
        }
      ],
      "source": [
        "### START CODE HERE ###\n",
        "import math\n",
        "# Nhập độ dài các cạnh từ người dùng\n",
        "a = float(input(\"Nhập độ dài cạnh a: \"))\n",
        "b = float(input(\"Nhập độ dài cạnh b: \"))\n",
        "c = float(input(\"Nhập độ dài cạnh c: \"))\n",
        "\n",
        "# Tính bán chu vi\n",
        "s = (a + b + c) / 2\n",
        "\n",
        "# Tính diện tích bằng công thức Heron\n",
        "area = math.sqrt(s * (s - a) * (s - b) * (s - c))\n",
        "\n",
        "# Hiển thị kết quả\n",
        "print('Diện tích của tam giác là %0.2f' % area)"
      ]
    },
    {
      "cell_type": "markdown",
      "metadata": {
        "id": "f4WjHr8djKUa"
      },
      "source": [
        "# 5. Program to Solve Quadratic Equation\n",
        "ax2 + bx + c = 0, where a, b and c are real numbers and a ≠ 0"
      ]
    },
    {
      "cell_type": "code",
      "execution_count": null,
      "metadata": {
        "colab": {
          "base_uri": "https://localhost:8080/"
        },
        "id": "qxD2rSWjjKUa",
        "outputId": "951f99e4-6d49-409e-c1c9-b31021277f43"
      },
      "outputs": [
        {
          "output_type": "stream",
          "name": "stdout",
          "text": [
            "Enter the first number: 5\n",
            "Enter the first number: 2\n",
            "Enter the first number: -1\n",
            "The solution are 0.2898979485566356 and -0.6898979485566356\n"
          ]
        }
      ],
      "source": [
        "\n",
        "# take inputs from the user\n",
        "a = float(input(\"Enter the first number: \"))\n",
        "b = float(input(\"Enter the first number: \"))\n",
        "c = float(input(\"Enter the first number: \"))\n",
        "\n",
        "# calculate the discriminant\n",
        "\n",
        "delta = b**2 - 4*a*c\n",
        "if delta > 0:\n",
        "    x1 = (-b + math.sqrt(delta)) / (2*a)\n",
        "    x2 = (-b - math.sqrt(delta)) / (2*a)\n",
        "\n",
        "\n",
        "\n",
        "# find two solutions using square root for real/complex number\n",
        "\n",
        "### END CODE HERE ###\n",
        "\n",
        "print('The solution are {0} and {1}'.format(x1,x2))\n"
      ]
    },
    {
      "cell_type": "markdown",
      "metadata": {
        "id": "0r3sauRajKUb"
      },
      "source": [
        "# 6. Program to Swap Two Variables"
      ]
    },
    {
      "cell_type": "code",
      "execution_count": null,
      "metadata": {
        "colab": {
          "base_uri": "https://localhost:8080/"
        },
        "id": "WFgNSm8LjKUb",
        "outputId": "bb72c095-b7cc-4d08-c73a-1010fb214db8"
      },
      "outputs": [
        {
          "output_type": "stream",
          "name": "stdout",
          "text": [
            "Nhập giá trị của biến x: 5\n",
            "Nhập giá trị của biến y: 4\n",
            "Sau khi hoán đổi, giá trị của x là 4 và giá trị của y là 5\n"
          ]
        }
      ],
      "source": [
        "# To take inputs from the user\n",
        "x = int(input(\"Nhập giá trị của biến x: \"))\n",
        "y = int(input(\"Nhập giá trị của biến y: \"))\n",
        "\n",
        "# create a temporary variable and swap the values\n",
        "temp = x\n",
        "x = y\n",
        "y = temp\n",
        "# Print the c=value of x, y after swapping\n",
        "print(f\"Sau khi hoán đổi, giá trị của x là {x} và giá trị của y là {y}\")\n"
      ]
    },
    {
      "cell_type": "code",
      "execution_count": null,
      "metadata": {
        "colab": {
          "base_uri": "https://localhost:8080/"
        },
        "id": "R9RoQWrWjKUb",
        "outputId": "0902fc73-158e-4b9c-a369-f3b108d1620c"
      },
      "outputs": [
        {
          "output_type": "stream",
          "name": "stdout",
          "text": [
            "Địa chỉ của biến x là 138750384554320\n",
            "Địa chỉ của biến y là 138750384554352\n",
            "Địa chỉ của biến temp là 138750384554352\n"
          ]
        }
      ],
      "source": [
        "### START CODE HERE ###\n",
        "# writing code to get the address (in RAM) of x, y, temp through the built-in function id()\n",
        "address_x = id(x)\n",
        "address_y = id(y)\n",
        "address_temp = id(temp)\n",
        "### END CODE HERE ###\n",
        "print(f\"Địa chỉ của biến x là {address_x}\")\n",
        "print(f\"Địa chỉ của biến y là {address_y}\")\n",
        "print(f\"Địa chỉ của biến temp là {address_temp}\")"
      ]
    },
    {
      "cell_type": "markdown",
      "metadata": {
        "id": "3DCIK3E3jKUb"
      },
      "source": [
        "# 7. Program to Generate a Random Number\n",
        "https://docs.python.org/3/library/random.html"
      ]
    },
    {
      "cell_type": "code",
      "execution_count": null,
      "metadata": {
        "colab": {
          "base_uri": "https://localhost:8080/"
        },
        "id": "rk0Buo1djKUb",
        "outputId": "5747ae5a-1012-42d6-957c-76d1937d7810"
      },
      "outputs": [
        {
          "output_type": "stream",
          "name": "stdout",
          "text": [
            "4\n",
            "5\n",
            "5\n",
            "0.9518260221954604\n",
            "4.063470398145343\n"
          ]
        }
      ],
      "source": [
        "# Program to generate a random number between 0 and 9\n",
        "\n",
        "# importing the random module\n",
        "import random\n",
        "\n",
        "print(random.randint(0,9))\n",
        "\n",
        "# Uncomment to try different function in random module\n",
        "print(random.randrange(9))\n",
        "print(random.randrange(3,9))\n",
        "print(random.random())\n",
        "print(random.uniform(a,b))"
      ]
    },
    {
      "cell_type": "markdown",
      "metadata": {
        "id": "hnbiuwaXjKUb"
      },
      "source": [
        "# 8. Program to Convert Kilometers to Miles\n",
        "1 km = (1/1.609344) mi = 0.62137119 mi"
      ]
    },
    {
      "cell_type": "code",
      "execution_count": null,
      "metadata": {
        "colab": {
          "base_uri": "https://localhost:8080/"
        },
        "id": "z2VDfLSfjKUb",
        "outputId": "6b090722-fa8b-4f18-943c-746251d66530"
      },
      "outputs": [
        {
          "output_type": "stream",
          "name": "stdout",
          "text": [
            "Enter value in kilometers: 5000\n",
            "5000.00 kilometers is equal to 3106.86 miles\n"
          ]
        }
      ],
      "source": [
        "# Taking kilometers input from the user\n",
        "kilometers = float(input(\"Enter value in kilometers: \"))\n",
        "\n",
        "# conversion factor\n",
        "conv_fac = 0.621371\n",
        "\n",
        "# calculate miles\n",
        "miles = kilometers * conv_fac\n",
        "print('%0.2f kilometers is equal to %0.2f miles' %(kilometers,miles))"
      ]
    },
    {
      "cell_type": "code",
      "execution_count": null,
      "metadata": {
        "colab": {
          "base_uri": "https://localhost:8080/"
        },
        "id": "BjBZ58SrjKUb",
        "outputId": "18ae7b0f-b773-4205-8ed9-601fd08e51c7"
      },
      "outputs": [
        {
          "output_type": "stream",
          "name": "stdout",
          "text": [
            "3106.855 dặm bằng 4999.9860257 kilômét\n"
          ]
        }
      ],
      "source": [
        "### START CODE HERE ###\n",
        "# writing code to convert miles to kilometers\n",
        "kilometers = miles * 1.60934\n",
        "### END CODE HERE ###\n",
        "print(f\"{miles} dặm bằng {kilometers} kilômét\")"
      ]
    },
    {
      "cell_type": "markdown",
      "metadata": {
        "id": "hnWTTf3xjKUc"
      },
      "source": [
        "# 9. Program to Convert Celsius To Fahrenheit\n",
        "T(°F) = T(°C) × 1.8 + 32"
      ]
    },
    {
      "cell_type": "code",
      "execution_count": null,
      "metadata": {
        "colab": {
          "base_uri": "https://localhost:8080/"
        },
        "id": "Ngk7uuuKjKUc",
        "outputId": "d17cc93d-0c14-406f-e3b6-abe649d1569b"
      },
      "outputs": [
        {
          "output_type": "stream",
          "name": "stdout",
          "text": [
            "Nhập độ Celsius: 40\n",
            "40.0 độ Celsius tương đương với 104.0 độ Fahrenheit.\n"
          ]
        }
      ],
      "source": [
        "### START CODE HERE ###\n",
        "# Taking celsius input from the user\n",
        "celsius = float(input(\"Nhập độ Celsius: \"))\n",
        "\n",
        "# conversion factor\n",
        "\n",
        "fahrenheit = celsius * 1.8 + 32\n",
        "# calculate Fahrenheit\n",
        "\n",
        "\n",
        "# print result\n",
        "print(f\"{celsius} độ Celsius tương đương với {fahrenheit} độ Fahrenheit.\")\n",
        "### END CODE HERE ###"
      ]
    }
  ],
  "metadata": {
    "kernelspec": {
      "display_name": "Python 3",
      "language": "python",
      "name": "python3"
    },
    "language_info": {
      "codemirror_mode": {
        "name": "ipython",
        "version": 3
      },
      "file_extension": ".py",
      "mimetype": "text/x-python",
      "name": "python",
      "nbconvert_exporter": "python",
      "pygments_lexer": "ipython3",
      "version": "3.11.5"
    },
    "colab": {
      "provenance": [],
      "include_colab_link": true
    }
  },
  "nbformat": 4,
  "nbformat_minor": 0
}